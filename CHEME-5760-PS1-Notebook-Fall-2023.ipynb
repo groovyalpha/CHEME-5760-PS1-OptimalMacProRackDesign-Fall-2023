{
 "cells": [
  {
   "cell_type": "markdown",
   "id": "583c7e9a-b38f-41c5-b2ed-44732c21fd1a",
   "metadata": {},
   "source": [
    "## PS1: Optimize the feature set of a rack-mounted M2 MacPro Server\n",
    "The [new MacPro with the M2 Ultra chip has been released](https://www.apple.com/shop/buy-mac/mac-pro/rack#). The MacPro M2 has several configuration options broadly organized into five categories: `{CPU, Memory, Storage, Accessories, Software}` with multiple options per category:\n",
    "* The `CPU` category has `2` options. Only one option can be selected from the `CPU` category\n",
    "* The `Memory` category has `3` options. Only one option can be selected from the `Memory` category.\n",
    "* The `Storage` category has `4` options. Only one option can be selected from the `Storage` category.\n",
    "* The `Accessories` category has `3` options. Only one option can be selected from the `Accessories` category\n",
    "* The `Software` category has `2` options. Neither or both options can be selected from the `Software` category\n",
    "\n",
    "### Problem statement\n",
    "Using a `linear` utility model and budget and feature constraints, compute the optimal set of features for a rack-mounted MacPro M2. This problem will be similar to the examples discussed in the lecture and discussion, except for one crucial element: the decision variables (our choices) will be `binary`, i.e., $x_{i}\\in{0,1}$ where a `0` indicates that we do NOT choose feature $i$. In contrast, a value of `1` indicates that we choose option $i$. \n",
    "\n",
    "Formally, an agent has a set of $n$ configuration options $X = \\left\\{x_{i}\\right\\}_{i=1}^{n}$, a `Linear` utility function, and a total of $I$ units of resource to allocate, e.g., money, and potentially other constraints. An optimal agent maximizes its utility subject to its resource and other constraints:\n",
    "\n",
    "\\begin{eqnarray}\n",
    "\\text{maximize}~\\mathcal{O} &=& \\sum_{i\\in{1,\\dotsc,n}}\\alpha_{i}x_{i} \\\\\n",
    "\\text{subject to}~\\sum_{i\\in{1,\\dotsc,n}}c_{i}x_{i} & = & I\\\\\n",
    "\\text{and}~\\mathbf{C}\\mathbf{x} & \\leq & \\mathbf{b} \\\\\n",
    "\\text{and}~x_{i}&\\in&{0,1}\\qquad{i=1,2,\\dots,n}\n",
    "\\end{eqnarray}\n",
    "\n",
    "The quantity $c_{i}\\geq{0}~\\forall{i}$ denotes the cost of option $i$, $\\alpha_{i}$ denotes user-specified coefficient in the `Linear` utility function, $x_{i}\\in{0,1}$ represents the choice of option $i$, and $\\mathbf{C}\\mathbf{x} \\leq \\mathbf{b}$ represents additional constraints governing the decision.\n",
    "\n",
    "#### List of Tasks\n",
    "* __Task 1__: Specify $\\alpha$- and $c$-vectors for the problem\n",
    "* __Task 2__: Specify the additional constraint matrix $\\mathbf{C}$\n",
    "* __Task 3__: Specify the problem object and solve the problem\n",
    "* __Task 4__: Try at least two different weighting schemes and different budget values, and explore how these design choices influence the optimal configuration (one of these __can__ be the `default` values specified below)."
   ]
  },
  {
   "cell_type": "markdown",
   "id": "a7e3433e-d93b-40ee-88a1-49fef419bd1e",
   "metadata": {},
   "source": [
    "### Setup\n",
    "The computations in this problem set rely on [VLDecisionsPackage.jl](https://github.com/varnerlab/VLDecisionsPackage.jl.git) and several external `Julia` packages. To load the required packages and any custom codes the teaching team has developed to work with these packages, we [include](https://docs.julialang.org/en/v1/manual/code-loading/) the `Include.jl` file):"
   ]
  },
  {
   "cell_type": "code",
   "execution_count": 2,
   "id": "c0782b15-84b4-4b38-be1f-f551bc67731d",
   "metadata": {
    "tags": []
   },
   "outputs": [
    {
     "name": "stderr",
     "output_type": "stream",
     "text": [
      "\u001b[32m\u001b[1m  Activating\u001b[22m\u001b[39m project at `~/Documents/GitHub/CHEME-5760-PS1-OptimalMacProRackDesign-Fall-2023`\n",
      "\u001b[32m\u001b[1mPrecompiling\u001b[22m\u001b[39m project...\n",
      "\u001b[32m  ✓ \u001b[39m\u001b[90mDistributions\u001b[39m\n",
      "\u001b[32m  ✓ \u001b[39m\u001b[90mMathOptInterface\u001b[39m\n",
      "\u001b[32m  ✓ \u001b[39m\u001b[90mMadNLP\u001b[39m\n",
      "\u001b[32m  ✓ \u001b[39m\u001b[90mGLPK\u001b[39m\n",
      "\u001b[32m  ✓ \u001b[39m\u001b[90mJuMP\u001b[39m\n",
      "\u001b[32m  ✓ \u001b[39mVLDecisionsPackage\n",
      "  6 dependencies successfully precompiled in 62 seconds. 194 already precompiled.\n",
      "\u001b[32m\u001b[1m    Updating\u001b[22m\u001b[39m registry at `~/.julia/registries/General.toml`\n",
      "\u001b[32m\u001b[1m    Updating\u001b[22m\u001b[39m git-repo `https://github.com/varnerlab/VLDecisionsPackage.jl.git`\n",
      "\u001b[32m\u001b[1m   Installed\u001b[22m\u001b[39m PDMats ─ v0.11.18\n",
      "\u001b[32m\u001b[1m  No Changes\u001b[22m\u001b[39m to `~/Documents/GitHub/CHEME-5760-PS1-OptimalMacProRackDesign-Fall-2023/Project.toml`\n",
      "\u001b[32m\u001b[1m    Updating\u001b[22m\u001b[39m `~/Documents/GitHub/CHEME-5760-PS1-OptimalMacProRackDesign-Fall-2023/Manifest.toml`\n",
      "  \u001b[90m[90014a1f] \u001b[39m\u001b[93m↑ PDMats v0.11.17 ⇒ v0.11.18\u001b[39m\n",
      "\u001b[32m\u001b[1mPrecompiling\u001b[22m\u001b[39m project...\n",
      "\u001b[32m  ✓ \u001b[39m\u001b[90mPDMats\u001b[39m\n",
      "\u001b[32m  ✓ \u001b[39m\u001b[90mDistributions\u001b[39m\n",
      "\u001b[32m  ✓ \u001b[39mVLDecisionsPackage\n",
      "  3 dependencies successfully precompiled in 7 seconds. 197 already precompiled.\n"
     ]
    }
   ],
   "source": [
    "include(\"Include.jl\");"
   ]
  },
  {
   "cell_type": "markdown",
   "id": "c49e194e-2d0f-4141-9a2c-a1f0db603a89",
   "metadata": {},
   "source": [
    "#### Specify constants and other static stuff"
   ]
  },
  {
   "cell_type": "code",
   "execution_count": 3,
   "id": "6e9bfd9d-5794-4fa7-8022-f627623704ad",
   "metadata": {
    "tags": []
   },
   "outputs": [],
   "source": [
    "number_of_choices = 14;\n",
    "bounds_array = Array{Float64,2}(undef, number_of_choices,2)\n",
    "for i ∈ 1:number_of_choices\n",
    "    bounds_array[i,1] = 0.0\n",
    "    bounds_array[i,2] = 1.0;\n",
    "end"
   ]
  },
  {
   "cell_type": "markdown",
   "id": "59a60542-a0f6-454c-b829-957ca16ed2bc",
   "metadata": {},
   "source": [
    "## Task 1: Specify the configuration array\n",
    "The `configuration_array` is a `14` $\\times$ `2` array holding perception and cost information about the problem. Each row of the `configuration_array` contains data for a particular MacPro configuration option. The first column contains the coefficients of the `Linear` utility function, i.e., the elements of the $\\alpha$-vector, while the unit price of the features, i.e., elements of the $c$-vector, are in the second column.  \n",
    "\n",
    "#### Feature prices\n",
    "The prices of each configuration option have been estimated from the [Apple MacPro server website](https://www.apple.com/shop/buy-mac/mac-pro/rack#).\n",
    "\n",
    "#### Linear utility weighting scheme\n",
    "In `PS1`, we'll use a category-based weighting scheme. In each of the five categories, allocate `1` unit of weight:\n",
    "\n",
    "* In each category, the coefficients in the `Linear` utility function for options in that category must sum to one.\n",
    "\n",
    "For example, if you have equal feelings about three options in a category, then `0.33, 0.33, 0.33` would be a typical scheme. On the other hand, if you are excited about feature `1` over the other two in the category, then `0.8,0.1,0.1` could be an appropriate weight scheme."
   ]
  },
  {
   "cell_type": "code",
   "execution_count": 4,
   "id": "f1f4c2f7-1ba7-4be9-9bbf-87ace097a4ba",
   "metadata": {
    "tags": []
   },
   "outputs": [],
   "source": [
    "configuration_array = [\n",
    "\n",
    "    # CPU options\n",
    "    0.4 2640.0    ; # 1 CPU 1\n",
    "    0.6 3649.0    ; # 2 CPU 2\n",
    "\n",
    "    # Memory options\n",
    "    0.1 3840.0  ; # 3 Memory 1\n",
    "    0.3 4040.0  ; # 4 Memory 2\n",
    "    0.6 4540.0  ; # 5 Memory 3\n",
    "\n",
    "    # Storage options -\n",
    "    0.1 1440.0   ; # 6 Storage 1\n",
    "    0.2 1840.0   ; # 7 Storage 2\n",
    "    0.3 2440.0   ; # 8 Storage 3\n",
    "    0.4 3640.0   ; # 9 Storage 4\n",
    "\n",
    "    # Accessory options\n",
    "    0.1 79.0    ; # 10 Accessory 1\n",
    "    0.4 129.0   ; # 11 Accessory 2\n",
    "    0.5 228.0   ; # 12 Accessory 3\n",
    "    \n",
    "    # Software options\n",
    "    0.01 299.0     ; # 13 Software 1\n",
    "    0.01 199.0     ; # 14 Software 2\n",
    "];"
   ]
  },
  {
   "cell_type": "markdown",
   "id": "d95754dc-5bd3-4adb-a902-46aacd490142",
   "metadata": {
    "tags": []
   },
   "source": [
    "### Task 2: Specify the feature constraint matrix `C`\n",
    "In each category, only a finite number of options can be selected simultaneously, typically only a single option, with the exception being the `Software` category, which is unconstrained (can have from zero up to two items selected). Because the decision variables are binary, we can implement this requirement with an additional set of constraints of the form:\n",
    "\n",
    "$$\n",
    "\\begin{equation}\n",
    "\\mathbf{C}\\mathbf{x} = \\mathbf{1}\n",
    "\\end{equation}\n",
    "$$\n",
    "\n",
    "where $\\mathbf{C}$ denotes the constraint matrix, $\\mathbf{x}$ denotes the choice vector and $\\mathbf{1}$ denotes a vector of `1`'s. \n",
    "Specify the $\\mathbf{C}$ matrix for this problem:"
   ]
  },
  {
   "cell_type": "code",
   "execution_count": 5,
   "id": "d1d0a2b8-16e3-4a41-934a-f3dec5be01f0",
   "metadata": {
    "tags": []
   },
   "outputs": [],
   "source": [
    "C = [\n",
    "    1.0 1.0 0.0 0.0 0.0 0.0 0.0 0.0 0.0 0.0 0.0 0.0 0.0 0.0\n",
    "    0.0 0.0 1.0 1.0 1.0 0.0 0.0 0.0 0.0 0.0 0.0 0.0 0.0 0.0\n",
    "    0.0 0.0 0.0 0.0 0.0 1.0 1.0 1.0 1.0 0.0 0.0 0.0 0.0 0.0\n",
    "    0.0 0.0 0.0 0.0 0.0 0.0 0.0 0.0 0.0 1.0 1.0 1.0 0.0 0.0\n",
    "    ]; # understanding qestion: why is this a 4 x 14 array?"
   ]
  },
  {
   "cell_type": "markdown",
   "id": "7ca8f780-d5a9-4bf6-aeda-2e5a6c09aa53",
   "metadata": {},
   "source": [
    "__Note__: Julia's Array syntax is similar to Matlab/Octave, except with square brackets. See [the Array documentation](https://docs.julialang.org/en/v1/base/arrays/) or various other [Julia tutorials on the web](https://www.tutorialspoint.com/julia/julia_arrays.htm) about working with the Array data structure."
   ]
  },
  {
   "cell_type": "markdown",
   "id": "bf9738eb-627e-4c69-ad4c-9aabc7fda7fe",
   "metadata": {},
   "source": [
    "### Task 3: Specify the problem object, and solve for the optimal configuration\n",
    "Finally, build a `MySimpleBinaryVariableLinearChoiceProblem` model using the `build(...)` method, set this instance to the `problem` variable, and then pass the `problem` object to the `solve(...)` method. The `solve(...)` method will solve the `ILP` problem using the [GLPK.jl](https://github.com/jump-dev/GLPK.jl) interface to the [GLPK linear programming solver](https://www.gnu.org/software/glpk/)."
   ]
  },
  {
   "cell_type": "code",
   "execution_count": 6,
   "id": "38a1b19e-8610-4e41-8eb3-4bf89f85d694",
   "metadata": {
    "tags": []
   },
   "outputs": [],
   "source": [
    "α = configuration_array[:,1];\n",
    "c = configuration_array[:,2];\n",
    "I = 10000; # default budget is 10K USD\n",
    "\n",
    "problem = build(MySimpleBinaryVariableLinearChoiceProblem, (\n",
    "        \n",
    "        initial = 1*ones(14), # initial guess\n",
    "        α = α, # coefficients\n",
    "        c = c, #cost vector\n",
    "        I = I, # income\n",
    "        C = C,\n",
    "        \n",
    "        bounds = [\n",
    "            0.0 1.0;\n",
    "            0.0 1.0;\n",
    "            0.0 1.0;\n",
    "            0.0 1.0; #4\n",
    "            0.0 1.0;\n",
    "            0.0 1.0;\n",
    "            0.0 1.0;\n",
    "            0.0 1.0; #8\n",
    "            0.0 1.0;\n",
    "            0.0 1.0;\n",
    "            0.0 1.0;\n",
    "            0.0 1.0; #12\n",
    "            0.0 1.0;\n",
    "            0.0 1.0;\n",
    "            ]   \n",
    "            ));\n",
    "\n",
    "solution = solve(problem);\n",
    "# Fill me in"
   ]
  },
  {
   "cell_type": "code",
   "execution_count": 7,
   "id": "09cb6273-e8b5-468a-8f39-42699acf37ac",
   "metadata": {},
   "outputs": [
    {
     "data": {
      "text/plain": [
       "Dict{String, Any} with 3 entries:\n",
       "  \"argmax\"          => [0.0, 1.0, 0.0, 0.0, 1.0, 1.0, 0.0, 0.0, 0.0, 0.0, 0.0, …\n",
       "  \"budget\"          => 9857.0\n",
       "  \"objective_value\" => 1.8"
      ]
     },
     "execution_count": 7,
     "metadata": {},
     "output_type": "execute_result"
    }
   ],
   "source": [
    "solution"
   ]
  },
  {
   "cell_type": "code",
   "execution_count": 8,
   "id": "ff2a9701-bde7-4d4f-972b-7aae664491ad",
   "metadata": {},
   "outputs": [
    {
     "data": {
      "text/plain": [
       "14-element Vector{Float64}:\n",
       " 0.0\n",
       " 1.0\n",
       " 0.0\n",
       " 0.0\n",
       " 1.0\n",
       " 1.0\n",
       " 0.0\n",
       " 0.0\n",
       " 0.0\n",
       " 0.0\n",
       " 0.0\n",
       " 1.0\n",
       " 0.0\n",
       " 0.0"
      ]
     },
     "execution_count": 8,
     "metadata": {},
     "output_type": "execute_result"
    }
   ],
   "source": [
    "solution[\"argmax\"]"
   ]
  },
  {
   "cell_type": "code",
   "execution_count": 11,
   "id": "e18b2e81-c3aa-4d38-bc4a-9e13a786bc0d",
   "metadata": {},
   "outputs": [
    {
     "data": {
      "text/plain": [
       "4-element Vector{Float64}:\n",
       " 1.0\n",
       " 1.0\n",
       " 1.0\n",
       " 1.0"
      ]
     },
     "execution_count": 11,
     "metadata": {},
     "output_type": "execute_result"
    }
   ],
   "source": [
    "C * solution[\"argmax\"]"
   ]
  },
  {
   "cell_type": "markdown",
   "id": "23160512-ce24-43c8-adc3-7a5d2c247efb",
   "metadata": {},
   "source": [
    "#### Check: Are the choice constraints enforced?\n",
    "We can only select a fixed number of items from each category. Does your solution reflect this restriction?"
   ]
  },
  {
   "cell_type": "raw",
   "id": "969b3db1-4702-4182-b6af-96b39afc7a2c",
   "metadata": {
    "tags": []
   },
   "source": [
    "Yes my solution only chooses one item from each category (besides the final category). To check we multiple C by x and see we only get a vector of 1s, indicating only one choice was made for each category. We can also confirm this manually in the choice vector above. Only one of the first two rows has a \"1\" for the processor category, only one of the next three rows has a \"1\" for the storage category and so on. The final two rows can be a \"1\" as they are the software options of which you can have both."
   ]
  },
  {
   "cell_type": "markdown",
   "id": "70eb10c8-3c05-4de9-954a-775fc981fe2c",
   "metadata": {},
   "source": [
    "### Task 4: How does changing the $\\alpha$-vector (or the budget $I$) influence the configuration choice?"
   ]
  },
  {
   "cell_type": "raw",
   "id": "8e570990-1bfd-4c8e-9df3-2ff48b54fabe",
   "metadata": {
    "tags": []
   },
   "source": [
    "# Fill me in - this is an open ended question, so mess around with the alpha - values and I and jot down some observations.\n",
    "\n",
    "If the alpha values are not changed from the given alpha's (where each option has equal weighting in a given category), only the first options of each category is chosen.\n",
    "\n",
    "When I input my personal alpha variables, I get an expected set of options. I care about a nicer CPU/GPU so I got that. I care a lot about RAM because I multitask, so I got the best option. I don't care too much about storage so I got the cheapest version. I also don't use Final Cut Pro or Logic Pro so I didn't get either of those. \n",
    "\n",
    "Another set of alpha's I tested had a heavy bias towards the most expensive option. Specifically, all the cheapest options in a category had an alpha of 0.1 while the final, most expensive option had an alpha = 1 - n(0.1) where n were the number of options in the category. Because there was still a budget constraint, all the top options could not be chosen. That being said, every top option was still chosen except for the storage as it was simply too expensive.\n",
    "\n",
    "Finally, I tested what happened when you changed the total budget. If the budget is huge (>> than the most expensive possible Mac), then all the best options are chosen assuming they are weighted the highest. If the budget is as tight as possible, then the cheapest options are chosen."
   ]
  },
  {
   "cell_type": "code",
   "execution_count": null,
   "id": "de72f49a-f5a7-41dc-9559-f86cdff1a27a",
   "metadata": {},
   "outputs": [],
   "source": []
  }
 ],
 "metadata": {
  "kernelspec": {
   "display_name": "Julia 1.9.3",
   "language": "julia",
   "name": "julia-1.9"
  },
  "language_info": {
   "file_extension": ".jl",
   "mimetype": "application/julia",
   "name": "julia",
   "version": "1.9.3"
  },
  "toc-showtags": false
 },
 "nbformat": 4,
 "nbformat_minor": 5
}
